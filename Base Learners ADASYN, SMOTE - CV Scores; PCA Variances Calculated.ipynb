{
 "cells": [
  {
   "cell_type": "code",
   "execution_count": 2,
   "id": "74b549a1",
   "metadata": {},
   "outputs": [],
   "source": [
    "import pandas as pd\n",
    "import numpy as np \n",
    "import matplotlib.pyplot as plt\n",
    "import seaborn as sns\n",
    "from sklearn.decomposition import PCA\n",
    "from sklearn.feature_selection import RFE,SequentialFeatureSelector\n",
    "from tqdm import tqdm\n",
    "from imblearn.pipeline import Pipeline\n",
    "\n",
    "import sys\n",
    "import warnings\n",
    "if not sys.warnoptions:\n",
    "    warnings.simplefilter(\"ignore\")\n",
    "    \n",
    "from sklearn.naive_bayes import GaussianNB\n",
    "rs = 0"
   ]
  },
  {
   "cell_type": "code",
   "execution_count": 3,
   "id": "ccee797f",
   "metadata": {},
   "outputs": [],
   "source": [
    "processed_train_data = pd.read_csv(\"Processed_train_data.csv\")\n",
    "processed_test_data = pd.read_csv(\"Processed_test_data.csv\")"
   ]
  },
  {
   "cell_type": "code",
   "execution_count": 4,
   "id": "173b6637",
   "metadata": {},
   "outputs": [
    {
     "data": {
      "text/html": [
       "<div>\n",
       "<style scoped>\n",
       "    .dataframe tbody tr th:only-of-type {\n",
       "        vertical-align: middle;\n",
       "    }\n",
       "\n",
       "    .dataframe tbody tr th {\n",
       "        vertical-align: top;\n",
       "    }\n",
       "\n",
       "    .dataframe thead th {\n",
       "        text-align: right;\n",
       "    }\n",
       "</style>\n",
       "<table border=\"1\" class=\"dataframe\">\n",
       "  <thead>\n",
       "    <tr style=\"text-align: right;\">\n",
       "      <th></th>\n",
       "      <th>duration</th>\n",
       "      <th>protocol_type_icmp</th>\n",
       "      <th>protocol_type_tcp</th>\n",
       "      <th>protocol_type_udp</th>\n",
       "      <th>service</th>\n",
       "      <th>flag</th>\n",
       "      <th>src_bytes</th>\n",
       "      <th>dst_bytes</th>\n",
       "      <th>land</th>\n",
       "      <th>wrong_fragment</th>\n",
       "      <th>...</th>\n",
       "      <th>diff_srv_rate</th>\n",
       "      <th>srv_diff_host_rate</th>\n",
       "      <th>dst_host_count</th>\n",
       "      <th>dst_host_srv_count</th>\n",
       "      <th>dst_host_same_srv_rate</th>\n",
       "      <th>dst_host_diff_srv_rate</th>\n",
       "      <th>dst_host_same_src_port_rate</th>\n",
       "      <th>dst_host_srv_diff_host_rate</th>\n",
       "      <th>dst_host_srv_serror_rate</th>\n",
       "      <th>class</th>\n",
       "    </tr>\n",
       "  </thead>\n",
       "  <tbody>\n",
       "    <tr>\n",
       "      <th>0</th>\n",
       "      <td>0.0</td>\n",
       "      <td>0.0</td>\n",
       "      <td>1.0</td>\n",
       "      <td>0.0</td>\n",
       "      <td>0.273363</td>\n",
       "      <td>0.145284</td>\n",
       "      <td>0.009003</td>\n",
       "      <td>0.000000</td>\n",
       "      <td>0.0</td>\n",
       "      <td>0.0</td>\n",
       "      <td>...</td>\n",
       "      <td>0.00</td>\n",
       "      <td>0.00</td>\n",
       "      <td>0.588235</td>\n",
       "      <td>0.098039</td>\n",
       "      <td>0.17</td>\n",
       "      <td>0.03</td>\n",
       "      <td>0.17</td>\n",
       "      <td>0.00</td>\n",
       "      <td>0.00</td>\n",
       "      <td>0</td>\n",
       "    </tr>\n",
       "    <tr>\n",
       "      <th>1</th>\n",
       "      <td>0.0</td>\n",
       "      <td>0.0</td>\n",
       "      <td>0.0</td>\n",
       "      <td>1.0</td>\n",
       "      <td>0.389904</td>\n",
       "      <td>0.145284</td>\n",
       "      <td>0.002677</td>\n",
       "      <td>0.000000</td>\n",
       "      <td>0.0</td>\n",
       "      <td>0.0</td>\n",
       "      <td>...</td>\n",
       "      <td>0.15</td>\n",
       "      <td>0.00</td>\n",
       "      <td>1.000000</td>\n",
       "      <td>0.003922</td>\n",
       "      <td>0.00</td>\n",
       "      <td>0.60</td>\n",
       "      <td>0.88</td>\n",
       "      <td>0.00</td>\n",
       "      <td>0.00</td>\n",
       "      <td>0</td>\n",
       "    </tr>\n",
       "    <tr>\n",
       "      <th>2</th>\n",
       "      <td>0.0</td>\n",
       "      <td>0.0</td>\n",
       "      <td>1.0</td>\n",
       "      <td>0.0</td>\n",
       "      <td>0.953923</td>\n",
       "      <td>0.989729</td>\n",
       "      <td>0.000000</td>\n",
       "      <td>0.000000</td>\n",
       "      <td>0.0</td>\n",
       "      <td>0.0</td>\n",
       "      <td>...</td>\n",
       "      <td>0.07</td>\n",
       "      <td>0.00</td>\n",
       "      <td>1.000000</td>\n",
       "      <td>0.101961</td>\n",
       "      <td>0.10</td>\n",
       "      <td>0.05</td>\n",
       "      <td>0.00</td>\n",
       "      <td>0.00</td>\n",
       "      <td>1.00</td>\n",
       "      <td>1</td>\n",
       "    </tr>\n",
       "    <tr>\n",
       "      <th>3</th>\n",
       "      <td>0.0</td>\n",
       "      <td>0.0</td>\n",
       "      <td>1.0</td>\n",
       "      <td>0.0</td>\n",
       "      <td>0.056722</td>\n",
       "      <td>0.145284</td>\n",
       "      <td>0.004254</td>\n",
       "      <td>0.329867</td>\n",
       "      <td>0.0</td>\n",
       "      <td>0.0</td>\n",
       "      <td>...</td>\n",
       "      <td>0.00</td>\n",
       "      <td>0.00</td>\n",
       "      <td>0.117647</td>\n",
       "      <td>1.000000</td>\n",
       "      <td>1.00</td>\n",
       "      <td>0.00</td>\n",
       "      <td>0.03</td>\n",
       "      <td>0.04</td>\n",
       "      <td>0.01</td>\n",
       "      <td>0</td>\n",
       "    </tr>\n",
       "    <tr>\n",
       "      <th>4</th>\n",
       "      <td>0.0</td>\n",
       "      <td>0.0</td>\n",
       "      <td>1.0</td>\n",
       "      <td>0.0</td>\n",
       "      <td>0.056722</td>\n",
       "      <td>0.145284</td>\n",
       "      <td>0.003649</td>\n",
       "      <td>0.016993</td>\n",
       "      <td>0.0</td>\n",
       "      <td>0.0</td>\n",
       "      <td>...</td>\n",
       "      <td>0.00</td>\n",
       "      <td>0.09</td>\n",
       "      <td>1.000000</td>\n",
       "      <td>1.000000</td>\n",
       "      <td>1.00</td>\n",
       "      <td>0.00</td>\n",
       "      <td>0.00</td>\n",
       "      <td>0.00</td>\n",
       "      <td>0.00</td>\n",
       "      <td>0</td>\n",
       "    </tr>\n",
       "  </tbody>\n",
       "</table>\n",
       "<p>5 rows × 37 columns</p>\n",
       "</div>"
      ],
      "text/plain": [
       "   duration  protocol_type_icmp  protocol_type_tcp  protocol_type_udp  \\\n",
       "0       0.0                 0.0                1.0                0.0   \n",
       "1       0.0                 0.0                0.0                1.0   \n",
       "2       0.0                 0.0                1.0                0.0   \n",
       "3       0.0                 0.0                1.0                0.0   \n",
       "4       0.0                 0.0                1.0                0.0   \n",
       "\n",
       "    service      flag  src_bytes  dst_bytes  land  wrong_fragment  ...  \\\n",
       "0  0.273363  0.145284   0.009003   0.000000   0.0             0.0  ...   \n",
       "1  0.389904  0.145284   0.002677   0.000000   0.0             0.0  ...   \n",
       "2  0.953923  0.989729   0.000000   0.000000   0.0             0.0  ...   \n",
       "3  0.056722  0.145284   0.004254   0.329867   0.0             0.0  ...   \n",
       "4  0.056722  0.145284   0.003649   0.016993   0.0             0.0  ...   \n",
       "\n",
       "   diff_srv_rate  srv_diff_host_rate  dst_host_count  dst_host_srv_count  \\\n",
       "0           0.00                0.00        0.588235            0.098039   \n",
       "1           0.15                0.00        1.000000            0.003922   \n",
       "2           0.07                0.00        1.000000            0.101961   \n",
       "3           0.00                0.00        0.117647            1.000000   \n",
       "4           0.00                0.09        1.000000            1.000000   \n",
       "\n",
       "   dst_host_same_srv_rate  dst_host_diff_srv_rate  \\\n",
       "0                    0.17                    0.03   \n",
       "1                    0.00                    0.60   \n",
       "2                    0.10                    0.05   \n",
       "3                    1.00                    0.00   \n",
       "4                    1.00                    0.00   \n",
       "\n",
       "   dst_host_same_src_port_rate  dst_host_srv_diff_host_rate  \\\n",
       "0                         0.17                         0.00   \n",
       "1                         0.88                         0.00   \n",
       "2                         0.00                         0.00   \n",
       "3                         0.03                         0.04   \n",
       "4                         0.00                         0.00   \n",
       "\n",
       "   dst_host_srv_serror_rate  class  \n",
       "0                      0.00      0  \n",
       "1                      0.00      0  \n",
       "2                      1.00      1  \n",
       "3                      0.01      0  \n",
       "4                      0.00      0  \n",
       "\n",
       "[5 rows x 37 columns]"
      ]
     },
     "execution_count": 4,
     "metadata": {},
     "output_type": "execute_result"
    }
   ],
   "source": [
    "processed_train_data.head()"
   ]
  },
  {
   "cell_type": "code",
   "execution_count": 5,
   "id": "1f350273",
   "metadata": {},
   "outputs": [],
   "source": [
    "processed_train_data_trX = processed_train_data.drop(columns=[\"class\"],axis=1)\n",
    "processed_train_data_trY = processed_train_data[\"class\"]"
   ]
  },
  {
   "cell_type": "code",
   "execution_count": 6,
   "id": "d225d07f",
   "metadata": {},
   "outputs": [],
   "source": [
    "processed_test_data_trX = processed_test_data.drop(columns=[\"class\"],axis=1)\n",
    "processed_test_data_trY = processed_test_data[\"class\"]"
   ]
  },
  {
   "cell_type": "code",
   "execution_count": 7,
   "id": "f415b03f",
   "metadata": {},
   "outputs": [],
   "source": [
    "from imblearn.over_sampling import ADASYN, SMOTE\n",
    "adasyn = ADASYN(random_state=rs)\n",
    "smote = SMOTE(random_state=rs)\n",
    "\n",
    "processed_smote_train_data_trX, processed_smote_train_data_trY = smote.fit_resample(processed_train_data_trX, processed_train_data_trY)"
   ]
  },
  {
   "cell_type": "code",
   "execution_count": 8,
   "id": "3335a9de",
   "metadata": {},
   "outputs": [],
   "source": [
    "processed_adasyn_train_data_trX, processed_adasyn_train_data_trY = adasyn.fit_resample(processed_train_data_trX, processed_train_data_trY)"
   ]
  },
  {
   "cell_type": "code",
   "execution_count": 9,
   "id": "76f28dcb",
   "metadata": {},
   "outputs": [],
   "source": [
    "processed_smote_train_data = processed_smote_train_data_trX\n",
    "processed_smote_train_data[\"class\"] = processed_smote_train_data_trY"
   ]
  },
  {
   "cell_type": "code",
   "execution_count": 10,
   "id": "7d8ec8bb",
   "metadata": {},
   "outputs": [
    {
     "data": {
      "text/plain": [
       "0    64928\n",
       "1    64928\n",
       "Name: class, dtype: int64"
      ]
     },
     "execution_count": 10,
     "metadata": {},
     "output_type": "execute_result"
    }
   ],
   "source": [
    "processed_smote_train_data[\"class\"].value_counts()"
   ]
  },
  {
   "cell_type": "code",
   "execution_count": 11,
   "id": "2f5b403d",
   "metadata": {},
   "outputs": [],
   "source": [
    "processed_smote_train_data.to_csv(\"processed_smote_train_data.csv\",index=False)"
   ]
  },
  {
   "cell_type": "code",
   "execution_count": 12,
   "id": "34f6e200",
   "metadata": {},
   "outputs": [],
   "source": [
    "processed_adasyn_train_data = processed_adasyn_train_data_trX\n",
    "processed_adasyn_train_data[\"class\"] = processed_adasyn_train_data_trY"
   ]
  },
  {
   "cell_type": "code",
   "execution_count": 13,
   "id": "64675234",
   "metadata": {},
   "outputs": [
    {
     "data": {
      "text/plain": [
       "0    64928\n",
       "1    64813\n",
       "Name: class, dtype: int64"
      ]
     },
     "execution_count": 13,
     "metadata": {},
     "output_type": "execute_result"
    }
   ],
   "source": [
    "processed_adasyn_train_data[\"class\"].value_counts()"
   ]
  },
  {
   "cell_type": "code",
   "execution_count": 14,
   "id": "fb0fa524",
   "metadata": {},
   "outputs": [
    {
     "data": {
      "text/plain": [
       "0    64928\n",
       "1    57709\n",
       "Name: class, dtype: int64"
      ]
     },
     "execution_count": 14,
     "metadata": {},
     "output_type": "execute_result"
    }
   ],
   "source": [
    "processed_train_data[\"class\"].value_counts()"
   ]
  },
  {
   "cell_type": "code",
   "execution_count": 15,
   "id": "1ae422f0",
   "metadata": {},
   "outputs": [],
   "source": [
    "processed_adasyn_train_data.to_csv(\"processed_adasyn_train_data.csv\",index=False)"
   ]
  },
  {
   "cell_type": "code",
   "execution_count": 16,
   "id": "17ba76b0",
   "metadata": {},
   "outputs": [],
   "source": [
    "processed_smote_train_data_trX = processed_smote_train_data.drop(columns=[\"class\"],axis=1)\n",
    "processed_smote_train_data_trY = processed_smote_train_data[\"class\"]\n",
    "\n",
    "processed_adasyn_train_data_trX = processed_adasyn_train_data.drop(columns=[\"class\"],axis=1)\n",
    "processed_adasyn_train_data_trY = processed_adasyn_train_data[\"class\"]"
   ]
  },
  {
   "cell_type": "code",
   "execution_count": 17,
   "id": "64b824eb",
   "metadata": {},
   "outputs": [],
   "source": [
    "from sklearn.metrics import classification_report, confusion_matrix, accuracy_score, plot_confusion_matrix,f1_score,precision_score,recall_score,RocCurveDisplay,PrecisionRecallDisplay"
   ]
  },
  {
   "cell_type": "code",
   "execution_count": 40,
   "id": "50c39f60",
   "metadata": {},
   "outputs": [
    {
     "name": "stdout",
     "output_type": "stream",
     "text": [
      "Fitting 5 folds for each of 1 candidates, totalling 5 fits\n"
     ]
    },
    {
     "data": {
      "text/plain": [
       "0.9579125819036907"
      ]
     },
     "execution_count": 40,
     "metadata": {},
     "output_type": "execute_result"
    }
   ],
   "source": [
    "#Hyperparameter Tuning of Naive Bayes Classifier\n",
    "from sklearn.model_selection import GridSearchCV\n",
    "gnb = GaussianNB()\n",
    "params = {\n",
    "    'var_smoothing': [0.02310129700083159]\n",
    "}\n",
    "grid_search = GridSearchCV(estimator=gnb, \n",
    "                           param_grid=params, \n",
    "                           cv=5, n_jobs=-1, verbose=3, scoring = \"f1\")\n",
    "grid_search.fit(processed_train_data_trX,processed_train_data_trY)\n",
    "grid_search.best_score_"
   ]
  },
  {
   "cell_type": "code",
   "execution_count": 41,
   "id": "6533843b",
   "metadata": {},
   "outputs": [
    {
     "name": "stdout",
     "output_type": "stream",
     "text": [
      "Fitting 5 folds for each of 1 candidates, totalling 5 fits\n"
     ]
    },
    {
     "data": {
      "text/plain": [
       "0.9607588809467945"
      ]
     },
     "execution_count": 41,
     "metadata": {},
     "output_type": "execute_result"
    }
   ],
   "source": [
    "#Hyperparameter Tuning of Naive Bayes Classifier\n",
    "from sklearn.model_selection import GridSearchCV\n",
    "gnb = GaussianNB()\n",
    "params = {\n",
    "    'var_smoothing': [0.02310129700083159]\n",
    "}\n",
    "grid_search = GridSearchCV(estimator=gnb, \n",
    "                           param_grid=params, \n",
    "                           cv=5, n_jobs=-1, verbose=3, scoring = \"f1\")\n",
    "grid_search.fit(processed_smote_train_data_trX,processed_smote_train_data_trY)\n",
    "grid_search.best_score_"
   ]
  },
  {
   "cell_type": "code",
   "execution_count": 42,
   "id": "42179385",
   "metadata": {},
   "outputs": [
    {
     "name": "stdout",
     "output_type": "stream",
     "text": [
      "Fitting 5 folds for each of 1 candidates, totalling 5 fits\n"
     ]
    },
    {
     "data": {
      "text/plain": [
       "0.928302574273388"
      ]
     },
     "execution_count": 42,
     "metadata": {},
     "output_type": "execute_result"
    }
   ],
   "source": [
    "#Hyperparameter Tuning of Naive Bayes Classifier\n",
    "from sklearn.model_selection import GridSearchCV\n",
    "gnb = GaussianNB()\n",
    "params = {\n",
    "    'var_smoothing': [1e-09]\n",
    "}\n",
    "grid_search = GridSearchCV(estimator=gnb, \n",
    "                           param_grid=params, \n",
    "                           cv=5, n_jobs=-1, verbose=3, scoring = \"f1\")\n",
    "grid_search.fit(processed_adasyn_train_data_trX,processed_adasyn_train_data_trY)\n",
    "grid_search.best_score_"
   ]
  },
  {
   "cell_type": "code",
   "execution_count": 34,
   "id": "e0a942f3",
   "metadata": {},
   "outputs": [],
   "source": [
    "from sklearn.tree import DecisionTreeClassifier"
   ]
  },
  {
   "cell_type": "code",
   "execution_count": 44,
   "id": "eac41f57",
   "metadata": {},
   "outputs": [
    {
     "name": "stdout",
     "output_type": "stream",
     "text": [
      "Fitting 5 folds for each of 1 candidates, totalling 5 fits\n",
      "0.9980324538371492\n"
     ]
    }
   ],
   "source": [
    "#Hyperparameter Tuning of Decision Tree Classifier\n",
    "from sklearn.model_selection import GridSearchCV\n",
    "rs = 0\n",
    "\n",
    "dt = DecisionTreeClassifier(random_state=rs)\n",
    "params = {\n",
    "    'max_depth': [10],\n",
    "    'min_samples_leaf': [5],\n",
    "    'criterion': [\"entropy\"]\n",
    "}\n",
    "grid_search = GridSearchCV(estimator=dt, \n",
    "                           param_grid=params, \n",
    "                           cv=5, n_jobs=-1, verbose=1, scoring = \"f1\")\n",
    "grid_search.fit(processed_train_data_trX,processed_train_data_trY)\n",
    "print(grid_search.best_score_)"
   ]
  },
  {
   "cell_type": "code",
   "execution_count": 45,
   "id": "8c2b438d",
   "metadata": {},
   "outputs": [
    {
     "name": "stdout",
     "output_type": "stream",
     "text": [
      "Fitting 5 folds for each of 1 candidates, totalling 5 fits\n",
      "0.9980049698317799\n"
     ]
    }
   ],
   "source": [
    "#Hyperparameter Tuning of Decision Tree Classifier\n",
    "from sklearn.model_selection import GridSearchCV\n",
    "rs = 0\n",
    "\n",
    "dt = DecisionTreeClassifier(random_state=rs)\n",
    "params = {\n",
    "    'max_depth': [20],\n",
    "    'min_samples_leaf': [5],\n",
    "    'criterion': [\"entropy\"]\n",
    "}\n",
    "grid_search = GridSearchCV(estimator=dt, \n",
    "                           param_grid=params, \n",
    "                           cv=5, n_jobs=-1, verbose=1, scoring = \"f1\")\n",
    "grid_search.fit(processed_smote_train_data_trX,processed_smote_train_data_trY)\n",
    "print(grid_search.best_score_)"
   ]
  },
  {
   "cell_type": "code",
   "execution_count": 46,
   "id": "f051ab5a",
   "metadata": {},
   "outputs": [
    {
     "name": "stdout",
     "output_type": "stream",
     "text": [
      "Fitting 5 folds for each of 1 candidates, totalling 5 fits\n",
      "0.9815950274308483\n"
     ]
    }
   ],
   "source": [
    "#Hyperparameter Tuning of Decision Tree Classifier\n",
    "from sklearn.model_selection import GridSearchCV\n",
    "rs = 0\n",
    "\n",
    "dt = DecisionTreeClassifier(random_state=rs)\n",
    "params = {\n",
    "    'max_depth': [20],\n",
    "    'min_samples_leaf': [5],\n",
    "    'criterion': [\"entropy\"]\n",
    "}\n",
    "grid_search = GridSearchCV(estimator=dt, \n",
    "                           param_grid=params, \n",
    "                           cv=5, n_jobs=-1, verbose=1, scoring = \"f1\")\n",
    "grid_search.fit(processed_adasyn_train_data_trX,processed_adasyn_train_data_trY)\n",
    "print(grid_search.best_score_)"
   ]
  },
  {
   "cell_type": "code",
   "execution_count": 47,
   "id": "931fd93e",
   "metadata": {},
   "outputs": [
    {
     "name": "stdout",
     "output_type": "stream",
     "text": [
      "Fitting 5 folds for each of 1 candidates, totalling 5 fits\n",
      "[CV 1/5; 1/1] START n_neighbors=1...............................................\n",
      "[CV 1/5; 1/1] END ................n_neighbors=1;, score=0.997 total time=  20.4s\n",
      "[CV 2/5; 1/1] START n_neighbors=1...............................................\n",
      "[CV 2/5; 1/1] END ................n_neighbors=1;, score=0.997 total time=  19.3s\n",
      "[CV 3/5; 1/1] START n_neighbors=1...............................................\n",
      "[CV 3/5; 1/1] END ................n_neighbors=1;, score=0.997 total time=  20.4s\n",
      "[CV 4/5; 1/1] START n_neighbors=1...............................................\n",
      "[CV 4/5; 1/1] END ................n_neighbors=1;, score=0.998 total time=  20.7s\n",
      "[CV 5/5; 1/1] START n_neighbors=1...............................................\n",
      "[CV 5/5; 1/1] END ................n_neighbors=1;, score=0.997 total time=  19.7s\n",
      "0.997418003327534\n"
     ]
    }
   ],
   "source": [
    "from sklearn.neighbors import KNeighborsClassifier\n",
    "#Hyperparameter Tuning of K Nearest Neighbor\n",
    "from sklearn.model_selection import GridSearchCV\n",
    "rs = 0\n",
    "\n",
    "knn = KNeighborsClassifier()\n",
    "params = {\n",
    "    'n_neighbors': [1]\n",
    "}\n",
    "grid_search = GridSearchCV(estimator=knn, \n",
    "                           param_grid=params, \n",
    "                           cv=5, verbose=10, scoring = \"f1\")\n",
    "grid_search.fit(processed_train_data_trX,processed_train_data_trY)\n",
    "print(grid_search.best_score_)"
   ]
  },
  {
   "cell_type": "code",
   "execution_count": 48,
   "id": "430df210",
   "metadata": {},
   "outputs": [
    {
     "name": "stdout",
     "output_type": "stream",
     "text": [
      "Fitting 5 folds for each of 1 candidates, totalling 5 fits\n",
      "[CV 1/5; 1/1] START n_neighbors=1...............................................\n",
      "[CV 1/5; 1/1] END ................n_neighbors=1;, score=0.998 total time=  21.6s\n",
      "[CV 2/5; 1/1] START n_neighbors=1...............................................\n",
      "[CV 2/5; 1/1] END ................n_neighbors=1;, score=0.997 total time=  21.7s\n",
      "[CV 3/5; 1/1] START n_neighbors=1...............................................\n",
      "[CV 3/5; 1/1] END ................n_neighbors=1;, score=0.997 total time=  21.7s\n",
      "[CV 4/5; 1/1] START n_neighbors=1...............................................\n",
      "[CV 4/5; 1/1] END ................n_neighbors=1;, score=0.998 total time=  21.6s\n",
      "[CV 5/5; 1/1] START n_neighbors=1...............................................\n",
      "[CV 5/5; 1/1] END ................n_neighbors=1;, score=0.998 total time=  21.7s\n",
      "0.9977436071084005\n"
     ]
    }
   ],
   "source": [
    "#Hyperparameter Tuning of Decision Tree Classifier\n",
    "from sklearn.model_selection import GridSearchCV\n",
    "rs = 0\n",
    "\n",
    "knn = KNeighborsClassifier()\n",
    "params = {\n",
    "    'n_neighbors': [1]\n",
    "}\n",
    "grid_search = GridSearchCV(estimator=knn, \n",
    "                           param_grid=params, \n",
    "                           cv=5, verbose=10, scoring = \"f1\")\n",
    "grid_search.fit(processed_smote_train_data_trX,processed_smote_train_data_trY)\n",
    "print(grid_search.best_score_)"
   ]
  },
  {
   "cell_type": "code",
   "execution_count": 49,
   "id": "749a3a3e",
   "metadata": {},
   "outputs": [
    {
     "name": "stdout",
     "output_type": "stream",
     "text": [
      "Fitting 5 folds for each of 1 candidates, totalling 5 fits\n",
      "[CV 1/5; 1/1] START n_neighbors=1...............................................\n",
      "[CV 1/5; 1/1] END ................n_neighbors=1;, score=0.998 total time=  21.5s\n",
      "[CV 2/5; 1/1] START n_neighbors=1...............................................\n",
      "[CV 2/5; 1/1] END ................n_neighbors=1;, score=0.998 total time=  22.9s\n",
      "[CV 3/5; 1/1] START n_neighbors=1...............................................\n",
      "[CV 3/5; 1/1] END ................n_neighbors=1;, score=0.998 total time=  22.0s\n",
      "[CV 4/5; 1/1] START n_neighbors=1...............................................\n",
      "[CV 4/5; 1/1] END ................n_neighbors=1;, score=0.998 total time=  21.6s\n",
      "[CV 5/5; 1/1] START n_neighbors=1...............................................\n",
      "[CV 5/5; 1/1] END ................n_neighbors=1;, score=0.960 total time=  21.5s\n",
      "0.9906148518463043\n"
     ]
    }
   ],
   "source": [
    "#Hyperparameter Tuning of Decision Tree Classifier\n",
    "from sklearn.model_selection import GridSearchCV\n",
    "rs = 0\n",
    "\n",
    "knn = KNeighborsClassifier()\n",
    "params = {\n",
    "    'n_neighbors': [1]\n",
    "}\n",
    "grid_search = GridSearchCV(estimator=knn, \n",
    "                           param_grid=params, \n",
    "                           cv=5, verbose=10, scoring = \"f1\")\n",
    "grid_search.fit(processed_adasyn_train_data_trX,processed_adasyn_train_data_trY)\n",
    "print(grid_search.best_score_)"
   ]
  },
  {
   "cell_type": "code",
   "execution_count": 50,
   "id": "497704b3",
   "metadata": {},
   "outputs": [],
   "source": [
    "from sklearn.linear_model import LogisticRegression"
   ]
  },
  {
   "cell_type": "code",
   "execution_count": 53,
   "id": "254e260e",
   "metadata": {},
   "outputs": [
    {
     "name": "stdout",
     "output_type": "stream",
     "text": [
      "Fitting 5 folds for each of 1 candidates, totalling 5 fits\n",
      "[CV 1/5; 1/1] START C=29.763514416313132, max_iter=1000, penalty=l2, solver=liblinear\n",
      "[CV 1/5; 1/1] END C=29.763514416313132, max_iter=1000, penalty=l2, solver=liblinear;, score=0.979 total time=   0.7s\n",
      "[CV 2/5; 1/1] START C=29.763514416313132, max_iter=1000, penalty=l2, solver=liblinear\n",
      "[CV 2/5; 1/1] END C=29.763514416313132, max_iter=1000, penalty=l2, solver=liblinear;, score=0.980 total time=   0.5s\n",
      "[CV 3/5; 1/1] START C=29.763514416313132, max_iter=1000, penalty=l2, solver=liblinear\n",
      "[CV 3/5; 1/1] END C=29.763514416313132, max_iter=1000, penalty=l2, solver=liblinear;, score=0.979 total time=   0.6s\n",
      "[CV 4/5; 1/1] START C=29.763514416313132, max_iter=1000, penalty=l2, solver=liblinear\n",
      "[CV 4/5; 1/1] END C=29.763514416313132, max_iter=1000, penalty=l2, solver=liblinear;, score=0.979 total time=   0.7s\n",
      "[CV 5/5; 1/1] START C=29.763514416313132, max_iter=1000, penalty=l2, solver=liblinear\n",
      "[CV 5/5; 1/1] END C=29.763514416313132, max_iter=1000, penalty=l2, solver=liblinear;, score=0.981 total time=   0.9s\n"
     ]
    },
    {
     "data": {
      "text/plain": [
       "0.9797426844580166"
      ]
     },
     "execution_count": 53,
     "metadata": {},
     "output_type": "execute_result"
    }
   ],
   "source": [
    "#Hyperparameter Tuning of Logistic Regression\n",
    "from sklearn.model_selection import GridSearchCV\n",
    "log_reg = LogisticRegression(random_state=rs)\n",
    "params = [    \n",
    "    {'penalty' : ['l2'],\n",
    "    'C' : [29.763514416313132],\n",
    "    'solver' : ['liblinear'],\n",
    "    'max_iter' : [1000]\n",
    "   }\n",
    "]\n",
    "\n",
    "grid_search = GridSearchCV(estimator=log_reg,\n",
    "                           param_grid=params,\n",
    "                           cv=5, verbose=10, scoring = \"f1\")\n",
    "grid_search.fit(processed_train_data_trX, processed_train_data_trY)\n",
    "grid_search.best_score_"
   ]
  },
  {
   "cell_type": "code",
   "execution_count": 54,
   "id": "0484e7aa",
   "metadata": {},
   "outputs": [
    {
     "name": "stdout",
     "output_type": "stream",
     "text": [
      "Fitting 5 folds for each of 1 candidates, totalling 5 fits\n",
      "[CV 1/5; 1/1] START C=4.281332398719396, max_iter=1000, penalty=l1, solver=liblinear\n",
      "[CV 1/5; 1/1] END C=4.281332398719396, max_iter=1000, penalty=l1, solver=liblinear;, score=0.980 total time=   1.3s\n",
      "[CV 2/5; 1/1] START C=4.281332398719396, max_iter=1000, penalty=l1, solver=liblinear\n",
      "[CV 2/5; 1/1] END C=4.281332398719396, max_iter=1000, penalty=l1, solver=liblinear;, score=0.981 total time=   0.8s\n",
      "[CV 3/5; 1/1] START C=4.281332398719396, max_iter=1000, penalty=l1, solver=liblinear\n",
      "[CV 3/5; 1/1] END C=4.281332398719396, max_iter=1000, penalty=l1, solver=liblinear;, score=0.980 total time=   0.8s\n",
      "[CV 4/5; 1/1] START C=4.281332398719396, max_iter=1000, penalty=l1, solver=liblinear\n",
      "[CV 4/5; 1/1] END C=4.281332398719396, max_iter=1000, penalty=l1, solver=liblinear;, score=0.982 total time=   1.1s\n",
      "[CV 5/5; 1/1] START C=4.281332398719396, max_iter=1000, penalty=l1, solver=liblinear\n",
      "[CV 5/5; 1/1] END C=4.281332398719396, max_iter=1000, penalty=l1, solver=liblinear;, score=0.982 total time=   1.0s\n"
     ]
    },
    {
     "data": {
      "text/plain": [
       "0.9809223616367435"
      ]
     },
     "execution_count": 54,
     "metadata": {},
     "output_type": "execute_result"
    }
   ],
   "source": [
    "#Hyperparameter Tuning of Logistic Regression\n",
    "from sklearn.model_selection import GridSearchCV\n",
    "log_reg = LogisticRegression(random_state=rs)\n",
    "params = [    \n",
    "    {'penalty' : ['l1'],\n",
    "    'C' : [4.281332398719396],\n",
    "    'solver' : ['liblinear'],\n",
    "    'max_iter' : [1000]\n",
    "   }\n",
    "]\n",
    "\n",
    "grid_search = GridSearchCV(estimator=log_reg,\n",
    "                           param_grid=params,\n",
    "                           cv=5, verbose=10, scoring = \"f1\")\n",
    "grid_search.fit(processed_smote_train_data_trX, processed_smote_train_data_trY)\n",
    "grid_search.best_score_"
   ]
  },
  {
   "cell_type": "code",
   "execution_count": 55,
   "id": "8df6c08e",
   "metadata": {},
   "outputs": [
    {
     "name": "stdout",
     "output_type": "stream",
     "text": [
      "Fitting 5 folds for each of 1 candidates, totalling 5 fits\n",
      "[CV 1/5; 1/1] START C=0.012742749857031334, max_iter=1000, penalty=l1, solver=liblinear\n",
      "[CV 1/5; 1/1] END C=0.012742749857031334, max_iter=1000, penalty=l1, solver=liblinear;, score=0.969 total time=   0.5s\n",
      "[CV 2/5; 1/1] START C=0.012742749857031334, max_iter=1000, penalty=l1, solver=liblinear\n",
      "[CV 2/5; 1/1] END C=0.012742749857031334, max_iter=1000, penalty=l1, solver=liblinear;, score=0.970 total time=   0.5s\n",
      "[CV 3/5; 1/1] START C=0.012742749857031334, max_iter=1000, penalty=l1, solver=liblinear\n",
      "[CV 3/5; 1/1] END C=0.012742749857031334, max_iter=1000, penalty=l1, solver=liblinear;, score=0.970 total time=   0.5s\n",
      "[CV 4/5; 1/1] START C=0.012742749857031334, max_iter=1000, penalty=l1, solver=liblinear\n",
      "[CV 4/5; 1/1] END C=0.012742749857031334, max_iter=1000, penalty=l1, solver=liblinear;, score=0.970 total time=   0.6s\n",
      "[CV 5/5; 1/1] START C=0.012742749857031334, max_iter=1000, penalty=l1, solver=liblinear\n",
      "[CV 5/5; 1/1] END C=0.012742749857031334, max_iter=1000, penalty=l1, solver=liblinear;, score=0.759 total time=   0.4s\n"
     ]
    },
    {
     "data": {
      "text/plain": [
       "0.9278984247506564"
      ]
     },
     "execution_count": 55,
     "metadata": {},
     "output_type": "execute_result"
    }
   ],
   "source": [
    "#Hyperparameter Tuning of Logistic Regression\n",
    "from sklearn.model_selection import GridSearchCV\n",
    "log_reg = LogisticRegression(random_state=rs)\n",
    "params = [    \n",
    "    {'penalty' : ['l1'],\n",
    "    'C' : [0.012742749857031334],\n",
    "    'solver' : ['liblinear'],\n",
    "    'max_iter' : [1000]\n",
    "   }\n",
    "]\n",
    "\n",
    "grid_search = GridSearchCV(estimator=log_reg,\n",
    "                           param_grid=params,\n",
    "                           cv=5, verbose=10, scoring = \"f1\")\n",
    "grid_search.fit(processed_adasyn_train_data_trX, processed_adasyn_train_data_trY)\n",
    "grid_search.best_score_"
   ]
  },
  {
   "cell_type": "code",
   "execution_count": 57,
   "id": "e0466cb3",
   "metadata": {},
   "outputs": [
    {
     "data": {
      "text/plain": [
       "array([0.45617041, 0.61553262, 0.70532838, 0.773927  , 0.8194312 ,\n",
       "       0.8565001 , 0.88107445, 0.90199282, 0.92086837, 0.93634785,\n",
       "       0.94891693, 0.95998092, 0.9662788 , 0.97182296, 0.97665997,\n",
       "       0.98117204, 0.98516076, 0.98841342, 0.99124403, 0.99387603,\n",
       "       0.99536489, 0.99650467, 0.99755416, 0.99836565, 0.99895539,\n",
       "       0.99937264, 0.99971784, 0.99980116, 0.99987277, 0.99992989,\n",
       "       0.99996524, 0.99998084, 0.99999467, 0.99999801, 1.        ])"
      ]
     },
     "execution_count": 57,
     "metadata": {},
     "output_type": "execute_result"
    }
   ],
   "source": [
    "from sklearn.decomposition import PCA\n",
    "pca = PCA(n_components=35,random_state=rs)\n",
    "pca.fit_transform(processed_adasyn_train_data_trX)\n",
    "pca.explained_variance_ratio_.cumsum()"
   ]
  },
  {
   "cell_type": "code",
   "execution_count": null,
   "id": "c63eada8",
   "metadata": {},
   "outputs": [],
   "source": []
  }
 ],
 "metadata": {
  "kernelspec": {
   "display_name": "Python 3 (ipykernel)",
   "language": "python",
   "name": "python3"
  },
  "language_info": {
   "codemirror_mode": {
    "name": "ipython",
    "version": 3
   },
   "file_extension": ".py",
   "mimetype": "text/x-python",
   "name": "python",
   "nbconvert_exporter": "python",
   "pygments_lexer": "ipython3",
   "version": "3.8.8"
  }
 },
 "nbformat": 4,
 "nbformat_minor": 5
}
